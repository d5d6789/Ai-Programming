{
 "cells": [
  {
   "cell_type": "code",
   "execution_count": 2,
   "metadata": {},
   "outputs": [
    {
     "name": "stdout",
     "output_type": "stream",
     "text": [
      "[4, 6, 8, 9, 11, 13, 17, 20]\n",
      "[20, 17, 13, 11, 9, 8, 6, 4]\n"
     ]
    }
   ],
   "source": [
    "L=[4,6,8,9]\n",
    "len(L)\n",
    "L.append(11)\n",
    "L.extend([13,17,20])\n",
    "print(L)\n",
    "NL=sorted(L,reverse=True)\n",
    "print(NL)\n"
   ]
  },
  {
   "cell_type": "code",
   "execution_count": 35,
   "metadata": {},
   "outputs": [
    {
     "name": "stdout",
     "output_type": "stream",
     "text": [
      "4\n",
      "9\n",
      "11\n",
      "[4, 6, 8]\n",
      "[9, 11]\n",
      "[4, 8, 11]\n",
      "[11, 8, 4]\n"
     ]
    }
   ],
   "source": [
    "L=[4,6,8,9,11]\n",
    "print(L[0])\n",
    "print(L[3])\n",
    "print(L[-1])\n",
    "print(L[:3])\n",
    "print(L[-2:])\n",
    "print(L[::2])\n",
    "print(L[::-2])"
   ]
  },
  {
   "cell_type": "code",
   "execution_count": 43,
   "metadata": {},
   "outputs": [
    {
     "name": "stdout",
     "output_type": "stream",
     "text": [
      "[50, 22, 33, 44, 11]\n"
     ]
    },
    {
     "data": {
      "text/plain": [
       "[11, 22, 33, 44, 50]"
      ]
     },
     "execution_count": 43,
     "metadata": {},
     "output_type": "execute_result"
    }
   ],
   "source": [
    "L[0]=50\n",
    "L[1:4]=22,33,44\n",
    "print(L)\n",
    "sorted(L)"
   ]
  },
  {
   "cell_type": "code",
   "execution_count": 44,
   "metadata": {},
   "outputs": [
    {
     "name": "stdout",
     "output_type": "stream",
     "text": [
      "This dark theme is much more cooler than the defult one!!!\n"
     ]
    }
   ],
   "source": [
    "print('This dark theme is much more cooler than the defult one'+'!!!')"
   ]
  },
  {
   "cell_type": "code",
   "execution_count": 60,
   "metadata": {},
   "outputs": [
    {
     "name": "stdout",
     "output_type": "stream",
     "text": [
      "(4, 9, 10, 12)\n"
     ]
    }
   ],
   "source": [
    "t=(4,9,10)\n",
    "t2=(12,)\n",
    "t += t2\n",
    "print(t)"
   ]
  },
  {
   "cell_type": "code",
   "execution_count": 77,
   "metadata": {},
   "outputs": [
    {
     "name": "stdout",
     "output_type": "stream",
     "text": [
      "{1, 2, 5, 8, 9}\n",
      "{1, 2, 3, 6, 10}\n",
      "{1, 2, 3, 5, 6, 8, 9, 10}\n",
      "{1, 2}\n",
      "{3, 5, 6, 8, 9, 10}\n",
      "{8, 9, 5}\n",
      "{8, 9, 5}\n"
     ]
    }
   ],
   "source": [
    "A=[1,1,2,5,5,5,8,8,9]\n",
    "B=[1,2,2,3,3,3,6,10]\n",
    "SA= set(A)\n",
    "SB= set(B)\n",
    "print(SA)\n",
    "print(SB)\n",
    "print(SA|SB)\n",
    "print(SA&SB)\n",
    "print(SA^SB)\n",
    "print(SA-SB)\n",
    "print((SA^SB)&SA)"
   ]
  },
  {
   "cell_type": "code",
   "execution_count": 117,
   "metadata": {},
   "outputs": [
    {
     "name": "stdout",
     "output_type": "stream",
     "text": [
      "{'one': 1, 'two': 2, 'four': 4, 'three': 3, 'five': 5, 'six': 6, 'seven': 7, 'eight': 8, 'nine': 9, 'ten': 10}\n",
      "2\n",
      "False\n",
      "two\n",
      "1\n",
      "9\n"
     ]
    }
   ],
   "source": [
    "numbers = {\"one\":1 ,\"two\":2 , \"four\":4 , \"three\":3 , \"five\":5 , \"six\":6 , \"seven\":7 , \"eight\":8 , \"nine\":9 , \"ten\":10 }\n",
    "print (numbers)\n",
    "print (numbers[\"two\"])\n",
    "\n",
    "print (\"eleven\" in numbers.keys())\n",
    "numbers [\"eleven\"] = 11\n",
    "ST = sorted(numbers.keys())\n",
    "SV = sorted(numbers.values())\n",
    "print(ST[-1])\n",
    "print(SV[0])\n",
    "print(numbers[\"nine\"])"
   ]
  },
  {
   "cell_type": "code",
   "execution_count": 123,
   "metadata": {},
   "outputs": [
    {
     "name": "stdout",
     "output_type": "stream",
     "text": [
      "0\n"
     ]
    }
   ],
   "source": [
    "def print_nums(x):\n",
    "  for i in range(x):\n",
    "    print(i)\n",
    "    return\n",
    "print_nums(10)"
   ]
  },
  {
   "cell_type": "code",
   "execution_count": 127,
   "metadata": {},
   "outputs": [
    {
     "name": "stdout",
     "output_type": "stream",
     "text": [
      "An error occurred\n",
      "due to zero division\n"
     ]
    }
   ],
   "source": [
    "try:\n",
    "   num1 = 7\n",
    "   num2 = 0\n",
    "   print (num1 / num2)\n",
    "   print(\"Done calculation\")\n",
    "except ZeroDivisionError:\n",
    "   print(\"An error occurred\")\n",
    "print(\"due to zero division\")"
   ]
  },
  {
   "cell_type": "code",
   "execution_count": 128,
   "metadata": {},
   "outputs": [
    {
     "ename": "ValueError",
     "evalue": "",
     "output_type": "error",
     "traceback": [
      "\u001b[1;31m---------------------------------------------------------------------------\u001b[0m",
      "\u001b[1;31mZeroDivisionError\u001b[0m                         Traceback (most recent call last)",
      "\u001b[1;32m<ipython-input-128-42578eb02b74>\u001b[0m in \u001b[0;36m<module>\u001b[1;34m\u001b[0m\n\u001b[0;32m      1\u001b[0m \u001b[1;32mtry\u001b[0m\u001b[1;33m:\u001b[0m\u001b[1;33m\u001b[0m\u001b[1;33m\u001b[0m\u001b[0m\n\u001b[1;32m----> 2\u001b[1;33m   \u001b[0mprint\u001b[0m\u001b[1;33m(\u001b[0m\u001b[1;36m1\u001b[0m \u001b[1;33m/\u001b[0m \u001b[1;36m0\u001b[0m\u001b[1;33m)\u001b[0m\u001b[1;33m\u001b[0m\u001b[1;33m\u001b[0m\u001b[0m\n\u001b[0m\u001b[0;32m      3\u001b[0m \u001b[1;32mexcept\u001b[0m \u001b[0mZeroDivisionError\u001b[0m\u001b[1;33m:\u001b[0m\u001b[1;33m\u001b[0m\u001b[1;33m\u001b[0m\u001b[0m\n",
      "\u001b[1;31mZeroDivisionError\u001b[0m: division by zero",
      "\nDuring handling of the above exception, another exception occurred:\n",
      "\u001b[1;31mValueError\u001b[0m                                Traceback (most recent call last)",
      "\u001b[1;32m<ipython-input-128-42578eb02b74>\u001b[0m in \u001b[0;36m<module>\u001b[1;34m\u001b[0m\n\u001b[0;32m      2\u001b[0m   \u001b[0mprint\u001b[0m\u001b[1;33m(\u001b[0m\u001b[1;36m1\u001b[0m \u001b[1;33m/\u001b[0m \u001b[1;36m0\u001b[0m\u001b[1;33m)\u001b[0m\u001b[1;33m\u001b[0m\u001b[1;33m\u001b[0m\u001b[0m\n\u001b[0;32m      3\u001b[0m \u001b[1;32mexcept\u001b[0m \u001b[0mZeroDivisionError\u001b[0m\u001b[1;33m:\u001b[0m\u001b[1;33m\u001b[0m\u001b[1;33m\u001b[0m\u001b[0m\n\u001b[1;32m----> 4\u001b[1;33m   \u001b[1;32mraise\u001b[0m \u001b[0mValueError\u001b[0m\u001b[1;33m\u001b[0m\u001b[1;33m\u001b[0m\u001b[0m\n\u001b[0m",
      "\u001b[1;31mValueError\u001b[0m: "
     ]
    }
   ],
   "source": [
    "try:\n",
    "  print(1 / 0)\n",
    "except ZeroDivisionError:\n",
    "  raise ValueError"
   ]
  }
 ],
 "metadata": {
  "kernelspec": {
   "display_name": "Python 3",
   "language": "python",
   "name": "python3"
  },
  "language_info": {
   "codemirror_mode": {
    "name": "ipython",
    "version": 3
   },
   "file_extension": ".py",
   "mimetype": "text/x-python",
   "name": "python",
   "nbconvert_exporter": "python",
   "pygments_lexer": "ipython3",
   "version": "3.7.3"
  }
 },
 "nbformat": 4,
 "nbformat_minor": 2
}
